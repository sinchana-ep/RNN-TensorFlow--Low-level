{
  "nbformat": 4,
  "nbformat_minor": 0,
  "metadata": {
    "colab": {
      "name": "RNN_LowLevel.ipynb",
      "provenance": [],
      "collapsed_sections": []
    },
    "kernelspec": {
      "name": "python3",
      "display_name": "Python 3"
    },
    "accelerator": "GPU"
  },
  "cells": [
    {
      "cell_type": "markdown",
      "metadata": {
        "id": "PnLZ8ATJybip",
        "colab_type": "text"
      },
      "source": [
        "Language Modeling & Recurrent Neural Networks\n"
      ]
    },
    {
      "cell_type": "code",
      "metadata": {
        "id": "tjnw40GvuXVG",
        "colab_type": "code",
        "colab": {}
      },
      "source": [
        "%tensorflow_version 2.x"
      ],
      "execution_count": 0,
      "outputs": []
    },
    {
      "cell_type": "code",
      "metadata": {
        "id": "N8zBF_hJut4i",
        "colab_type": "code",
        "outputId": "2f3e484f-2d11-48f7-91c4-d2e729ccbac0",
        "colab": {
          "base_uri": "https://localhost:8080/",
          "height": 190
        }
      },
      "source": [
        "!pip install ipython-autotime\n",
        "%load_ext autotime"
      ],
      "execution_count": 0,
      "outputs": [
        {
          "output_type": "stream",
          "text": [
            "Collecting ipython-autotime\n",
            "  Downloading https://files.pythonhosted.org/packages/e6/f9/0626bbdb322e3a078d968e87e3b01341e7890544de891d0cb613641220e6/ipython-autotime-0.1.tar.bz2\n",
            "Building wheels for collected packages: ipython-autotime\n",
            "  Building wheel for ipython-autotime (setup.py) ... \u001b[?25l\u001b[?25hdone\n",
            "  Created wheel for ipython-autotime: filename=ipython_autotime-0.1-cp36-none-any.whl size=1832 sha256=1eabf65fb4f2e64fe4f97d43ec38d5238ee965433e0df378c346026071adf645\n",
            "  Stored in directory: /root/.cache/pip/wheels/d2/df/81/2db1e54bc91002cec40334629bc39cfa86dff540b304ebcd6e\n",
            "Successfully built ipython-autotime\n",
            "Installing collected packages: ipython-autotime\n",
            "Successfully installed ipython-autotime-0.1\n"
          ],
          "name": "stdout"
        }
      ]
    },
    {
      "cell_type": "code",
      "metadata": {
        "id": "yTX1iVIXvoRy",
        "colab_type": "code",
        "outputId": "f92f5f76-df68-4ff5-f4d8-981229444c96",
        "colab": {
          "base_uri": "https://localhost:8080/",
          "height": 34
        }
      },
      "source": [
        "import os\n",
        "os.getcwd()"
      ],
      "execution_count": 0,
      "outputs": [
        {
          "output_type": "execute_result",
          "data": {
            "text/plain": [
              "'/content'"
            ]
          },
          "metadata": {
            "tags": []
          },
          "execution_count": 3
        },
        {
          "output_type": "stream",
          "text": [
            "time: 3.9 ms\n"
          ],
          "name": "stdout"
        }
      ]
    },
    {
      "cell_type": "code",
      "metadata": {
        "id": "ie1E2UtXvqqc",
        "colab_type": "code",
        "outputId": "93266881-8d49-4475-e4e7-0367ad7b583b",
        "colab": {
          "base_uri": "https://localhost:8080/",
          "height": 34
        }
      },
      "source": [
        "os.chdir(\"/content/drive/My Drive/Colab Notebooks\")"
      ],
      "execution_count": 0,
      "outputs": [
        {
          "output_type": "stream",
          "text": [
            "time: 1.07 ms\n"
          ],
          "name": "stdout"
        }
      ]
    },
    {
      "cell_type": "code",
      "metadata": {
        "id": "iCldKJZmv1zZ",
        "colab_type": "code",
        "outputId": "f701e44f-fb37-4ebf-e68c-c66deef8b6cf",
        "colab": {
          "base_uri": "https://localhost:8080/",
          "height": 34
        }
      },
      "source": [
        "os.getcwd()"
      ],
      "execution_count": 0,
      "outputs": [
        {
          "output_type": "execute_result",
          "data": {
            "text/plain": [
              "'/content/drive/My Drive/Colab Notebooks'"
            ]
          },
          "metadata": {
            "tags": []
          },
          "execution_count": 5
        },
        {
          "output_type": "stream",
          "text": [
            "time: 2 ms\n"
          ],
          "name": "stdout"
        }
      ]
    },
    {
      "cell_type": "code",
      "metadata": {
        "id": "j6R4zfmpuvk8",
        "colab_type": "code",
        "outputId": "b59974db-9919-42cf-e79d-6a183d2fe3c6",
        "colab": {
          "base_uri": "https://localhost:8080/",
          "height": 34
        }
      },
      "source": [
        "import tensorflow as tf\n",
        "import numpy as np"
      ],
      "execution_count": 0,
      "outputs": [
        {
          "output_type": "stream",
          "text": [
            "time: 1.16 s\n"
          ],
          "name": "stdout"
        }
      ]
    },
    {
      "cell_type": "code",
      "metadata": {
        "id": "8T41zbmW44HB",
        "colab_type": "code",
        "outputId": "8172a13c-76c2-44fb-fdfb-436d1245fdb0",
        "colab": {
          "base_uri": "https://localhost:8080/",
          "height": 34
        }
      },
      "source": [
        "tf.keras.utils.get_file(\"/content/drive/My Drive/Colab Notebooks/shakespeare.txt\", \n",
        "                        \"https://cs.stanford.edu/people/karpathy/char-rnn/shakespeare_input.txt\")"
      ],
      "execution_count": 0,
      "outputs": [
        {
          "output_type": "execute_result",
          "data": {
            "text/plain": [
              "'/content/drive/My Drive/Colab Notebooks/shakespeare.txt'"
            ]
          },
          "metadata": {
            "tags": []
          },
          "execution_count": 7
        },
        {
          "output_type": "stream",
          "text": [
            "time: 7.48 ms\n"
          ],
          "name": "stdout"
        }
      ]
    },
    {
      "cell_type": "code",
      "metadata": {
        "id": "g8Dt0SRi3JvO",
        "colab_type": "code",
        "outputId": "91639083-58b4-4553-956d-9612ae6dace8",
        "colab": {
          "base_uri": "https://localhost:8080/",
          "height": 1000
        }
      },
      "source": [
        "!python prepare_data.py shakespeare.txt skp"
      ],
      "execution_count": 0,
      "outputs": [
        {
          "output_type": "stream",
          "text": [
            "2020-05-26 08:17:01.624566: I tensorflow/stream_executor/platform/default/dso_loader.cc:44] Successfully opened dynamic library libcudart.so.10.1\n",
            "Split input into 22981 sequences...\n",
            "Serialized 100 sequences...\n",
            "Serialized 200 sequences...\n",
            "Serialized 300 sequences...\n",
            "Serialized 400 sequences...\n",
            "Serialized 500 sequences...\n",
            "Serialized 600 sequences...\n",
            "Serialized 700 sequences...\n",
            "Serialized 800 sequences...\n",
            "Serialized 900 sequences...\n",
            "Serialized 1000 sequences...\n",
            "Serialized 1100 sequences...\n",
            "Serialized 1200 sequences...\n",
            "Serialized 1300 sequences...\n",
            "Serialized 1400 sequences...\n",
            "Serialized 1500 sequences...\n",
            "Serialized 1600 sequences...\n",
            "Serialized 1700 sequences...\n",
            "Serialized 1800 sequences...\n",
            "Serialized 1900 sequences...\n",
            "Serialized 2000 sequences...\n",
            "Serialized 2100 sequences...\n",
            "Serialized 2200 sequences...\n",
            "Serialized 2300 sequences...\n",
            "Serialized 2400 sequences...\n",
            "Serialized 2500 sequences...\n",
            "Serialized 2600 sequences...\n",
            "Serialized 2700 sequences...\n",
            "Serialized 2800 sequences...\n",
            "Serialized 2900 sequences...\n",
            "Serialized 3000 sequences...\n",
            "Serialized 3100 sequences...\n",
            "Serialized 3200 sequences...\n",
            "Serialized 3300 sequences...\n",
            "Serialized 3400 sequences...\n",
            "Serialized 3500 sequences...\n",
            "Serialized 3600 sequences...\n",
            "Serialized 3700 sequences...\n",
            "Serialized 3800 sequences...\n",
            "Serialized 3900 sequences...\n",
            "Serialized 4000 sequences...\n",
            "Serialized 4100 sequences...\n",
            "Serialized 4200 sequences...\n",
            "Serialized 4300 sequences...\n",
            "Serialized 4400 sequences...\n",
            "Serialized 4500 sequences...\n",
            "Serialized 4600 sequences...\n",
            "Serialized 4700 sequences...\n",
            "Serialized 4800 sequences...\n",
            "Serialized 4900 sequences...\n",
            "Serialized 5000 sequences...\n",
            "Serialized 5100 sequences...\n",
            "Serialized 5200 sequences...\n",
            "Serialized 5300 sequences...\n",
            "Serialized 5400 sequences...\n",
            "Serialized 5500 sequences...\n",
            "Serialized 5600 sequences...\n",
            "Serialized 5700 sequences...\n",
            "Serialized 5800 sequences...\n",
            "Serialized 5900 sequences...\n",
            "Serialized 6000 sequences...\n",
            "Serialized 6100 sequences...\n",
            "Serialized 6200 sequences...\n",
            "Serialized 6300 sequences...\n",
            "Serialized 6400 sequences...\n",
            "Serialized 6500 sequences...\n",
            "Serialized 6600 sequences...\n",
            "Serialized 6700 sequences...\n",
            "Serialized 6800 sequences...\n",
            "Serialized 6900 sequences...\n",
            "Serialized 7000 sequences...\n",
            "Serialized 7100 sequences...\n",
            "Serialized 7200 sequences...\n",
            "Serialized 7300 sequences...\n",
            "Serialized 7400 sequences...\n",
            "Serialized 7500 sequences...\n",
            "Serialized 7600 sequences...\n",
            "Serialized 7700 sequences...\n",
            "Serialized 7800 sequences...\n",
            "Serialized 7900 sequences...\n",
            "Serialized 8000 sequences...\n",
            "Serialized 8100 sequences...\n",
            "Serialized 8200 sequences...\n",
            "Serialized 8300 sequences...\n",
            "Serialized 8400 sequences...\n",
            "Serialized 8500 sequences...\n",
            "Serialized 8600 sequences...\n",
            "Serialized 8700 sequences...\n",
            "Serialized 8800 sequences...\n",
            "Serialized 8900 sequences...\n",
            "Serialized 9000 sequences...\n",
            "Serialized 9100 sequences...\n",
            "Serialized 9200 sequences...\n",
            "Serialized 9300 sequences...\n",
            "Serialized 9400 sequences...\n",
            "Serialized 9500 sequences...\n",
            "Serialized 9600 sequences...\n",
            "Serialized 9700 sequences...\n",
            "Serialized 9800 sequences...\n",
            "Serialized 9900 sequences...\n",
            "Serialized 10000 sequences...\n",
            "Serialized 10100 sequences...\n",
            "Serialized 10200 sequences...\n",
            "Serialized 10300 sequences...\n",
            "Serialized 10400 sequences...\n",
            "Serialized 10500 sequences...\n",
            "Serialized 10600 sequences...\n",
            "Serialized 10700 sequences...\n",
            "Serialized 10800 sequences...\n",
            "Serialized 10900 sequences...\n",
            "Serialized 11000 sequences...\n",
            "Serialized 11100 sequences...\n",
            "Serialized 11200 sequences...\n",
            "Serialized 11300 sequences...\n",
            "Serialized 11400 sequences...\n",
            "Serialized 11500 sequences...\n",
            "Serialized 11600 sequences...\n",
            "Serialized 11700 sequences...\n",
            "Serialized 11800 sequences...\n",
            "Serialized 11900 sequences...\n",
            "Serialized 12000 sequences...\n",
            "Serialized 12100 sequences...\n",
            "Serialized 12200 sequences...\n",
            "Serialized 12300 sequences...\n",
            "Serialized 12400 sequences...\n",
            "Serialized 12500 sequences...\n",
            "Serialized 12600 sequences...\n",
            "Serialized 12700 sequences...\n",
            "Serialized 12800 sequences...\n",
            "Serialized 12900 sequences...\n",
            "Serialized 13000 sequences...\n",
            "Serialized 13100 sequences...\n",
            "Serialized 13200 sequences...\n",
            "Serialized 13300 sequences...\n",
            "Serialized 13400 sequences...\n",
            "Serialized 13500 sequences...\n",
            "Serialized 13600 sequences...\n",
            "Serialized 13700 sequences...\n",
            "Serialized 13800 sequences...\n",
            "Serialized 13900 sequences...\n",
            "Serialized 14000 sequences...\n",
            "Serialized 14100 sequences...\n",
            "Serialized 14200 sequences...\n",
            "Serialized 14300 sequences...\n",
            "Serialized 14400 sequences...\n",
            "Serialized 14500 sequences...\n",
            "Serialized 14600 sequences...\n",
            "Serialized 14700 sequences...\n",
            "Serialized 14800 sequences...\n",
            "Serialized 14900 sequences...\n",
            "Serialized 15000 sequences...\n",
            "Serialized 15100 sequences...\n",
            "Serialized 15200 sequences...\n",
            "Serialized 15300 sequences...\n",
            "Serialized 15400 sequences...\n",
            "Serialized 15500 sequences...\n",
            "Serialized 15600 sequences...\n",
            "Serialized 15700 sequences...\n",
            "Serialized 15800 sequences...\n",
            "Serialized 15900 sequences...\n",
            "Serialized 16000 sequences...\n",
            "Serialized 16100 sequences...\n",
            "Serialized 16200 sequences...\n",
            "Serialized 16300 sequences...\n",
            "Serialized 16400 sequences...\n",
            "Serialized 16500 sequences...\n",
            "Serialized 16600 sequences...\n",
            "Serialized 16700 sequences...\n",
            "Serialized 16800 sequences...\n",
            "Serialized 16900 sequences...\n",
            "Serialized 17000 sequences...\n",
            "Serialized 17100 sequences...\n",
            "Serialized 17200 sequences...\n",
            "Serialized 17300 sequences...\n",
            "Serialized 17400 sequences...\n",
            "Serialized 17500 sequences...\n",
            "Serialized 17600 sequences...\n",
            "Serialized 17700 sequences...\n",
            "Serialized 17800 sequences...\n",
            "Serialized 17900 sequences...\n",
            "Serialized 18000 sequences...\n",
            "Serialized 18100 sequences...\n",
            "Serialized 18200 sequences...\n",
            "Serialized 18300 sequences...\n",
            "Serialized 18400 sequences...\n",
            "Serialized 18500 sequences...\n",
            "Serialized 18600 sequences...\n",
            "Serialized 18700 sequences...\n",
            "Serialized 18800 sequences...\n",
            "Serialized 18900 sequences...\n",
            "Serialized 19000 sequences...\n",
            "Serialized 19100 sequences...\n",
            "Serialized 19200 sequences...\n",
            "Serialized 19300 sequences...\n",
            "Serialized 19400 sequences...\n",
            "Serialized 19500 sequences...\n",
            "Serialized 19600 sequences...\n",
            "Serialized 19700 sequences...\n",
            "Serialized 19800 sequences...\n",
            "Serialized 19900 sequences...\n",
            "Serialized 20000 sequences...\n",
            "Serialized 20100 sequences...\n",
            "Serialized 20200 sequences...\n",
            "Serialized 20300 sequences...\n",
            "Serialized 20400 sequences...\n",
            "Serialized 20500 sequences...\n",
            "Serialized 20600 sequences...\n",
            "Serialized 20700 sequences...\n",
            "Serialized 20800 sequences...\n",
            "Serialized 20900 sequences...\n",
            "Serialized 21000 sequences...\n",
            "Serialized 21100 sequences...\n",
            "Serialized 21200 sequences...\n",
            "Serialized 21300 sequences...\n",
            "Serialized 21400 sequences...\n",
            "Serialized 21500 sequences...\n",
            "Serialized 21600 sequences...\n",
            "Serialized 21700 sequences...\n",
            "Serialized 21800 sequences...\n",
            "Serialized 21900 sequences...\n",
            "Serialized 22000 sequences...\n",
            "Serialized 22100 sequences...\n",
            "Serialized 22200 sequences...\n",
            "Serialized 22300 sequences...\n",
            "Serialized 22400 sequences...\n",
            "Serialized 22500 sequences...\n",
            "Serialized 22600 sequences...\n",
            "Serialized 22700 sequences...\n",
            "Serialized 22800 sequences...\n",
            "Serialized 22900 sequences...\n",
            "time: 12 s\n"
          ],
          "name": "stdout"
        }
      ]
    },
    {
      "cell_type": "code",
      "metadata": {
        "id": "KCappyAz6hGP",
        "colab_type": "code",
        "outputId": "96508e85-34dc-483e-9b26-804adb6c5f83",
        "colab": {
          "base_uri": "https://localhost:8080/",
          "height": 105
        }
      },
      "source": [
        "from prepare_data import parse_seq\n",
        "import pickle\n",
        "# this is just a datasets of \"bytes\" (not understandable)\n",
        "data = tf.data.TFRecordDataset(\"skp.tfrecords\")\n",
        "\n",
        "# this maps a parser function that properly interprets the bytes over the dataset\n",
        "# (with fixed sequence length 200)\n",
        "# if you change the sequence length in preprocessing you also need to change it here\n",
        "seq_len = 200\n",
        "data = data.map(lambda x: parse_seq(x, seq_len))\n",
        "\n",
        "# a map from characters to indices\n",
        "vocab = pickle.load(open(\"skp_vocab\", mode=\"rb\")) \n",
        "#unpickling-convert byte stream to python object structure #read bytes\n",
        "vocab_size = len(vocab)\n",
        "# inverse mapping: indices to characters\n",
        "ind_to_ch = {ind: ch for (ch, ind) in vocab.items()}\n",
        "\n",
        "print(vocab_size) #26(uppercase)+26(lowercase)+16(special characters)=68\n",
        "print(vocab) \n",
        "print(ind_to_ch)"
      ],
      "execution_count": 0,
      "outputs": [
        {
          "output_type": "stream",
          "text": [
            "68\n",
            "{'z': 1, ';': 2, 'p': 3, 'M': 4, 'a': 5, 'k': 6, 'y': 7, 'l': 8, 'u': 9, 'e': 10, 'q': 11, '3': 12, 'C': 13, 'o': 14, 'R': 15, 'Q': 16, 'N': 17, 'X': 18, 'd': 19, 'P': 20, '?': 21, 'Y': 22, 'i': 23, '\\n': 24, 'A': 25, 'v': 26, 's': 27, '-': 28, 'm': 29, 'I': 30, 'B': 31, ']': 32, 'U': 33, 'h': 34, 'j': 35, 'S': 36, 'F': 37, ',': 38, '!': 39, 'J': 40, 'T': 41, 'E': 42, 'n': 43, 'G': 44, 'r': 45, ':': 46, 'Z': 47, '[': 48, 'V': 49, 'w': 50, \"'\": 51, 'W': 52, ' ': 53, 'x': 54, 't': 55, 'D': 56, 'b': 57, '&': 58, 'c': 59, '$': 60, 'g': 61, 'O': 62, 'L': 63, 'K': 64, 'f': 65, 'H': 66, '.': 67, '<S>': 0}\n",
            "{1: 'z', 2: ';', 3: 'p', 4: 'M', 5: 'a', 6: 'k', 7: 'y', 8: 'l', 9: 'u', 10: 'e', 11: 'q', 12: '3', 13: 'C', 14: 'o', 15: 'R', 16: 'Q', 17: 'N', 18: 'X', 19: 'd', 20: 'P', 21: '?', 22: 'Y', 23: 'i', 24: '\\n', 25: 'A', 26: 'v', 27: 's', 28: '-', 29: 'm', 30: 'I', 31: 'B', 32: ']', 33: 'U', 34: 'h', 35: 'j', 36: 'S', 37: 'F', 38: ',', 39: '!', 40: 'J', 41: 'T', 42: 'E', 43: 'n', 44: 'G', 45: 'r', 46: ':', 47: 'Z', 48: '[', 49: 'V', 50: 'w', 51: \"'\", 52: 'W', 53: ' ', 54: 'x', 55: 't', 56: 'D', 57: 'b', 58: '&', 59: 'c', 60: '$', 61: 'g', 62: 'O', 63: 'L', 64: 'K', 65: 'f', 66: 'H', 67: '.', 0: '<S>'}\n",
            "time: 8.58 s\n"
          ],
          "name": "stdout"
        }
      ]
    },
    {
      "cell_type": "code",
      "metadata": {
        "id": "nfiUQosyd1Rc",
        "colab_type": "code",
        "outputId": "74055304-baaf-479b-fe1a-8001908f8290",
        "colab": {
          "base_uri": "https://localhost:8080/",
          "height": 34
        }
      },
      "source": [
        "batch_size = 128\n",
        "data = data.shuffle(10000).batch(batch_size).repeat()"
      ],
      "execution_count": 0,
      "outputs": [
        {
          "output_type": "stream",
          "text": [
            "time: 7.46 ms\n"
          ],
          "name": "stdout"
        }
      ]
    },
    {
      "cell_type": "code",
      "metadata": {
        "id": "_Y2MrM4gBWEl",
        "colab_type": "code",
        "outputId": "ce6da20c-23d9-4741-943a-af3b163e231e",
        "colab": {
          "base_uri": "https://localhost:8080/",
          "height": 1000
        }
      },
      "source": [
        "# view data\n",
        "print(data)\n",
        "for index ,value in enumerate(data): \n",
        "  print(index) \n",
        "  print(value.shape)\n",
        "  print(value[0])\n",
        "  vector=tf.one_hot(value,vocab_size)  \n",
        "  s=[]\n",
        "  sentence=\"\"\n",
        "  for i in value[0].numpy():     \n",
        "    s.append(ind_to_ch[i])\n",
        "  print(\"----example sentence-----\")\n",
        "  print(sentence.join(s))\n",
        "  print(\"----vector representation-----\")\n",
        "  print(vector)\n",
        "  break"
      ],
      "execution_count": 0,
      "outputs": [
        {
          "output_type": "stream",
          "text": [
            "<RepeatDataset shapes: (None, 200), types: tf.int32>\n",
            "0\n",
            "(128, 200)\n",
            "tf.Tensor(\n",
            "[ 0 55 53 34 10 53 34  5 55 34 53 43 14 55 67 24 24 13 42 63 30 25 46 24\n",
            " 17 14 38 53 34  5 55 34 53 43 14 55 21 53 15 14 27  5  8 23 43 19 53  8\n",
            "  5 59  6 27 53 55 34 10 43 53 55 34 10 53  8 14 26 10 24 52 34 23 59 34\n",
            " 53 55 10  5 59 34 10 55 34 53 55 34 10 10 53 55 34  5 55 53 55 34 14  9\n",
            " 53  5 43 19 53 30 53  5 29 53 14 43 10 46 24 36 34  5  8  8 53 50 10 53\n",
            " 57 10 53 27  9 43 19 10 45 51 19 21 53 27 34  5  8  8 53 50 10 53  3  5\n",
            " 45 55 38 53 27 50 10 10 55 53 61 23 45  8 21 24 17 14 46 53  8 10 55 53\n",
            " 29  7 53 65  5 55 34 10 45 53 27 10 10  6 53  5 43 14 55 34 10 45 53 34\n",
            " 10 23 45 67 24 41 34 10], shape=(200,), dtype=int32)\n",
            "----example sentence-----\n",
            "<S>t he hath not.\n",
            "\n",
            "CELIA:\n",
            "No, hath not? Rosalind lacks then the love\n",
            "Which teacheth thee that thou and I am one:\n",
            "Shall we be sunder'd? shall we part, sweet girl?\n",
            "No: let my father seek another heir.\n",
            "The\n",
            "----vector representation-----\n",
            "tf.Tensor(\n",
            "[[[1. 0. 0. ... 0. 0. 0.]\n",
            "  [0. 0. 0. ... 0. 0. 0.]\n",
            "  [0. 0. 0. ... 0. 0. 0.]\n",
            "  ...\n",
            "  [0. 0. 0. ... 0. 0. 0.]\n",
            "  [0. 0. 0. ... 0. 0. 0.]\n",
            "  [0. 0. 0. ... 0. 0. 0.]]\n",
            "\n",
            " [[1. 0. 0. ... 0. 0. 0.]\n",
            "  [0. 0. 0. ... 0. 0. 0.]\n",
            "  [0. 0. 0. ... 0. 0. 0.]\n",
            "  ...\n",
            "  [0. 0. 0. ... 0. 0. 0.]\n",
            "  [0. 0. 0. ... 0. 0. 0.]\n",
            "  [0. 0. 0. ... 0. 0. 0.]]\n",
            "\n",
            " [[1. 0. 0. ... 0. 0. 0.]\n",
            "  [0. 0. 0. ... 0. 0. 0.]\n",
            "  [0. 0. 0. ... 0. 0. 0.]\n",
            "  ...\n",
            "  [0. 0. 0. ... 0. 0. 0.]\n",
            "  [0. 0. 0. ... 0. 0. 0.]\n",
            "  [0. 0. 0. ... 0. 0. 0.]]\n",
            "\n",
            " ...\n",
            "\n",
            " [[1. 0. 0. ... 0. 0. 0.]\n",
            "  [0. 0. 0. ... 0. 0. 0.]\n",
            "  [0. 0. 0. ... 0. 0. 0.]\n",
            "  ...\n",
            "  [0. 0. 0. ... 0. 0. 0.]\n",
            "  [0. 0. 0. ... 0. 0. 0.]\n",
            "  [0. 0. 0. ... 0. 0. 0.]]\n",
            "\n",
            " [[1. 0. 0. ... 0. 0. 0.]\n",
            "  [0. 0. 0. ... 0. 0. 0.]\n",
            "  [0. 0. 0. ... 0. 0. 0.]\n",
            "  ...\n",
            "  [0. 0. 0. ... 0. 0. 0.]\n",
            "  [0. 0. 0. ... 0. 0. 0.]\n",
            "  [0. 0. 0. ... 0. 0. 0.]]\n",
            "\n",
            " [[1. 0. 0. ... 0. 0. 0.]\n",
            "  [0. 0. 0. ... 0. 0. 0.]\n",
            "  [0. 0. 0. ... 0. 0. 0.]\n",
            "  ...\n",
            "  [0. 0. 0. ... 0. 0. 0.]\n",
            "  [0. 0. 0. ... 0. 0. 0.]\n",
            "  [0. 0. 0. ... 0. 0. 0.]]], shape=(128, 200, 68), dtype=float32)\n",
            "time: 377 ms\n"
          ],
          "name": "stdout"
        }
      ]
    },
    {
      "cell_type": "code",
      "metadata": {
        "id": "MwL_MedIVX3d",
        "colab_type": "code",
        "outputId": "d6371058-8f21-4e82-dd23-d06641a7e432",
        "colab": {
          "base_uri": "https://localhost:8080/",
          "height": 34
        }
      },
      "source": [
        "#set up variables\n",
        "hidden_units = 512\n",
        "\n",
        "#initializer = tf.random_uniform_initializer\n",
        "initlializer = tf.keras.initializers.GlorotUniform() #Xavier uniform initializer\n",
        "\n",
        "W_xh = tf.Variable(initlializer([vocab_size, hidden_units])) #input weights (68, 512)\n",
        "W_hh = tf.Variable(initlializer([hidden_units, hidden_units]))#hidden weights (512, 512)\n",
        "b_h = tf.Variable(tf.zeros([hidden_units])) #hidden bias (512)\n",
        "W_ho = tf.Variable(initlializer([hidden_units, vocab_size]))#output weights (512, 68)\n",
        "b_o = tf.Variable(tf.zeros([vocab_size])) #output bias (68)\n",
        "\n",
        "varis = [W_xh, W_hh,b_h, W_ho, b_o]"
      ],
      "execution_count": 0,
      "outputs": [
        {
          "output_type": "stream",
          "text": [
            "time: 36.2 ms\n"
          ],
          "name": "stdout"
        }
      ]
    },
    {
      "cell_type": "code",
      "metadata": {
        "id": "PyjlXSlnrNdH",
        "colab_type": "code",
        "outputId": "27900e7c-c3b3-4489-b240-5e350e4c0947",
        "colab": {
          "base_uri": "https://localhost:8080/",
          "height": 136
        }
      },
      "source": [
        "train_steps = 5000\n",
        "optimizer = tf.keras.optimizers.Adam()\n",
        "loss_fn = tf.losses.SparseCategoricalCrossentropy(from_logits=True)\n",
        "\n",
        "@tf.function\n",
        "def training(input):\n",
        "  with tf.GradientTape() as tape:\n",
        "    hidden_state = tf.zeros([tf.shape(input)[0], hidden_units]) #(128,512)\n",
        "    #sum_loss = 0\n",
        "    ta_loss = tf.TensorArray('float32', size = tf.shape(input)[1] - 1)  \n",
        "    #supports gradient back-propagation via special \"flow\" control flow dependencies #pre allocated size\n",
        "\n",
        "    for time_step in tf.range(tf.shape(input)[1] - 1): #length is 199 after removing <S>\n",
        "      #state = init_state\n",
        "      input_one_hot = tf.one_hot(input[:, time_step], depth = vocab_size) #(128,200,68)\n",
        "      #input is turned from batch_size x seq_len into batch_size x seq_len x vocab_size\n",
        "      hidden_state = tf.nn.tanh(tf.matmul(input_one_hot, W_xh) + tf.matmul(hidden_state, W_hh) + b_h)\n",
        "      logits = tf.matmul(hidden_state, W_ho) + b_o\n",
        "\n",
        "      loss = loss_fn(input[:, time_step + 1], logits) #the targets are just the input shifted by one time step\n",
        "      ta_loss = ta_loss.write(time_step, loss)\n",
        "    ta_loss = ta_loss.stack() #Return the values in the TensorArray as a stacked Tensor\n",
        "    avg_loss = tf.reduce_mean(ta_loss)\n",
        "      #sum_loss += loss\n",
        "\n",
        "  grads = tape.gradient(avg_loss, varis) \n",
        "\n",
        "  #avoid exploding gradients with gradient clipping\n",
        "  grads, _ = tf.clip_by_global_norm(grads, 0.3) #clip_value = 0.3\n",
        "  optimizer.apply_gradients(zip(grads, varis))\n",
        "      \n",
        "  return avg_loss\n",
        "\n",
        "for step, batch in enumerate(data):\n",
        "    if step > train_steps:\n",
        "      break\n",
        "\n",
        "    loss_avg = training(batch) #batch (128,200)\n",
        "\n",
        "    if not step % 1000:\n",
        "      print('Step {} Average Loss {}'.format(step, loss_avg))"
      ],
      "execution_count": 0,
      "outputs": [
        {
          "output_type": "stream",
          "text": [
            "Step 0 Average Loss 4.240265846252441\n",
            "Step 1000 Average Loss 1.8317983150482178\n",
            "Step 2000 Average Loss 1.5790228843688965\n",
            "Step 3000 Average Loss 1.4850237369537354\n",
            "Step 4000 Average Loss 1.419765591621399\n",
            "Step 5000 Average Loss 1.3816020488739014\n",
            "time: 17min 19s\n"
          ],
          "name": "stdout"
        }
      ]
    },
    {
      "cell_type": "code",
      "metadata": {
        "id": "8xp4BYjkPa3f",
        "colab_type": "code",
        "outputId": "556ede12-0649-4f3b-dac1-f302b0be789e",
        "colab": {
          "base_uri": "https://localhost:8080/",
          "height": 1000
        }
      },
      "source": [
        "#sample and generate new text\n",
        "\n",
        "def generate_text(num_generate):\n",
        "  hidden_state = tf.zeros([1, hidden_units]) #(1, 512)\n",
        "  sample = [0]\n",
        "\n",
        "  for i in range(num_generate):\n",
        "    hidden_state = tf.nn.tanh(tf.matmul(tf.one_hot(sample[-1:], depth = vocab_size), W_xh) + tf.matmul(hidden_state, W_hh) + b_h)\n",
        "    probabilities = tf.nn.softmax(tf.matmul(hidden_state , W_ho) + b_o).numpy()[0] #outputs probability distributions (68,)\n",
        "    sample.append(np.random.choice(vocab_size, p = probabilities))\n",
        "\n",
        "  output = \"\".join(ind_to_ch[j] for j in sample) \n",
        "  return output\n",
        "\n",
        "num_generate = 3000\n",
        "output_text = generate_text(num_generate)\n",
        "print(output_text)"
      ],
      "execution_count": 0,
      "outputs": [
        {
          "output_type": "stream",
          "text": [
            "<S>ed did I wan without by it.\n",
            "Times Pleace marry! Have I lay up verngness must\n",
            "neighbour you herced! Sir Anjest falls, and readors,\n",
            "Not now got one, and flowing too, heavens,\n",
            "the gods of him; we know not whining of voound\n",
            "Well as well for born.\n",
            "\n",
            "SPEED:\n",
            "Now, I' brulatily is not lend for him.\n",
            "\n",
            "ANTIPHOLUS OF WIRCK:\n",
            "Somp lion is voow'st.\n",
            "'doughtuse and her formanged to some muster\n",
            "As there we hours and prunt of thines.\n",
            "\n",
            "KING RICHARD III:\n",
            "Nay, now, A harling, like a quarrel yor\n",
            "Arjouthed, indeed on him a' wit ignorant fell,\n",
            "If death More lament, but well be loved you, be\n",
            "quesning of me? I am her his: I will\n",
            "neighbourded morke to my cotions,\n",
            "I'st have it be not to lay with copress'd,\n",
            "And grieved the persone. I ambark, to did;\n",
            "With your bestracurs missters, and judgment; yet shall insoctity.\n",
            "Humon or to one emence, and send ip wornun.\n",
            "\n",
            "BRATON:\n",
            "Where by here! Kenc'l! I proless king, hast too hour martile:\n",
            "There is a palace! I would do you well.\n",
            "\n",
            "ADRIANA:\n",
            "God make a Melan, but discoury my lies\n",
            "I hydeur makes which death\n",
            "Your countrain's bound,'--Nore of Mind oo sleep: but stare, the\n",
            "known, shempath; there's no lords Outrate, acter?\n",
            "\n",
            "HELENTINE:\n",
            "Ay, God, then I can relic your pleasure.\n",
            "\n",
            "ANGELO:\n",
            "Mechanio: but now, now?\n",
            "What weed you indeed!\n",
            "\n",
            "TIMON:\n",
            "Undere's yet you demard a cup of the souftly,\n",
            "From griefly of hell, mistress Gloucester\n",
            "The could not little servant to his baddan just.\n",
            "\n",
            "DUKE OF YORK:\n",
            "Good light, you should hod our franks: by oon!\n",
            "We'll not in this great Roble to glat, fineseling\n",
            "to the Jown,\n",
            "I cannot be resure with the lions, nature,\n",
            "Do now hast the queen and to chick.\n",
            "P ormed me deate!\n",
            "In, within the fellows over and revenge!\n",
            "\n",
            "BISONE:\n",
            "But I'Ht her wondily, order, feel all thy fateers,\n",
            "Sweary, the water stars, of your brows bears;\n",
            "But delly this gentlemen as my bases are Enough,\n",
            "Wal strong him: till thee, how mage enemy this,\n",
            "Why, Sifflat, sir; divile me?\n",
            "\n",
            "MISTRESS QUICKLY:\n",
            "Sir, I wirt thinked ambated of his mision, may ord\n",
            "confidely forth, nor power to enwer on?\n",
            "\n",
            "Lord:\n",
            "My good Know'd Cassius: the gods, wartant your parts?\n",
            "Burn man and strong the man charge you: thyself,\n",
            "'I's gower'd Rome' fastial king.\n",
            "\n",
            "LANTRIN:\n",
            "As e'er thy urchafe, low's the other within\n",
            "so better oution, patch upon his honour;\n",
            "For, bows in all thriculus old for to dignity.\n",
            "\n",
            "ROSENCRANTZ:\n",
            "You're bex'dw'st on more.\n",
            "\n",
            "ANTONIO:\n",
            "I, liddy, ntere hence; for Edwlawes to sing it but sit any\n",
            "loss gentleman: Lord; never sin, are you music,\n",
            "Nay, that I should we may his death;' ac thus preifer.\n",
            "\n",
            "DOLLINE:\n",
            "Whose villain's eyes.\n",
            "\n",
            "OLIVIA:\n",
            "Madam, be\n",
            "Critagians to a marriage? For Goths!\n",
            "\n",
            "OLIVIA:\n",
            "If would do not lie; lord, the all my war:\n",
            "Which made hath leasure there,\n",
            "So have I sworn being me worthy?\n",
            "\n",
            "MANTANDE:\n",
            "Give him up not insolend to them a cram;\n",
            "And the scholags are so didstor grew too fool:\n",
            "And, courtesy: 'twere downce.\n",
            "\n",
            "your virtue it? why should I straight.\n",
            "\n",
            "LADY MAGBENN:\n",
            "Wry ask,\n",
            "That so impossiol horsed.\n",
            "\n",
            "MONTANO,\n",
            "Mown, I have no bolds and dustion upon my lord;\n",
            "But pider, after hark it\n",
            "time: 3.06 s\n"
          ],
          "name": "stdout"
        }
      ]
    }
  ]
}